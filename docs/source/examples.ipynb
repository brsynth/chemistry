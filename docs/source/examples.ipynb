{
 "cells": [
  {
   "source": [
    "## Code examples\n",
    "\n",
    "### Compound\n",
    "A compound can be created with only its ID (used as a name), but other infos can be added as well (`smiles`, `InChI`, `InChIKey`, `formula`, chemical `name`)."
   ],
   "cell_type": "code",
   "metadata": {},
   "execution_count": null,
   "outputs": []
  },
  {
   "cell_type": "code",
   "execution_count": null,
   "id": "432c98f0-184c-45ae-937c-bedb6b9dab23",
   "metadata": {},
   "outputs": [],
   "source": [
    "from chemlite import Compound\n",
    "\n",
    "mnxm13 = Compound(\n",
    "    id=\"MNXM13\",\n",
    "    smiles=\"O=C=O\",\n",
    "    inchi=\"InChI=1S/CO2/c2-1-3\",\n",
    "    inchikey=\"CURLTUGMZLYLDI-UHFFFAOYSA-N\",\n",
    "    formula=\"CO2\",\n",
    "    name=\"CO2\"\n",
    ")"
   ]
  },
  {
   "cell_type": "code",
   "execution_count": null,
   "metadata": {},
   "outputs": [],
   "source": [
    "### Reaction\n",
    "A reaction can be created with only its ID (used as a name), but other infos can be added as well (`reactants`, `products`)."
   ]
  },
  {
   "cell_type": "code",
   "execution_count": null,
   "id": "29351068-a0c6-49af-ab18-158f9b7e607e",
   "metadata": {},
   "outputs": [],
   "source": [
    "from chemlite import Reaction\n",
    "\n",
    "rxn_1 = Reaction(id=\"rxn_1\")\n",
    "rxn_1.add_reactant(compound_id=\"MNXM12\", stoichio=4)\n",
    "rxn_1.add_reactant(compound_id=\"MNXM13\", stoichio=3)\n",
    "rxn_1.add_reactant(compound_id=\"MNXM3153\", stoichio=1)\n",
    "rxn_1.add_product(compound_id=\"MNXM1\", stoichio=2)\n",
    "rxn_1.add_product(compound_id=\"MNXM1307\", stoichio=1)\n",
    "rxn_1.add_product(compound_id=\"MNXM40\", stoichio=3)\n",
    "\n",
    "rxn_2 = Reaction(\n",
    "    id=\"rxn_2\",\n",
    "    reactants=\n",
    "        {\n",
    "            \"MNXM12\": 3,\n",
    "            \"MNXM13\": 3,\n",
    "            \"MNXM2\": 3,\n",
    "            \"MNXM342\": 1,\n",
    "            \"MNXM5\": 6\n",
    "        }\n",
    ")\n",
    "rxn_2.set_products(\n",
    "    {\n",
    "        \"MNXM1\": 9,\n",
    "        \"MNXM21\": 1,\n",
    "        \"MNXM40\": 3,\n",
    "        \"MNXM6\": 6\n",
    "    }\n",
    ")"
   ]
  },
  {
   "cell_type": "code",
   "execution_count": null,
   "metadata": {},
   "outputs": [],
   "source": [
    "Note that a reaction only needs information about compounds ID and stoichiometric coefficient. `Reaction` class does not handle compound content (`InChIKey`, `smiles`...). Neverthless, a reaction needs compounds content to return some information such as reaction SMILES."
   ]
  },
  {
   "cell_type": "code",
   "execution_count": null,
   "metadata": {},
   "outputs": [],
   "source": [
    "mnxm12 = Compound(\n",
    "    id=\"MNXM12\",\n",
    "    smiles=\"CC(C)(COP(=O)(O)OP(=O)(O)OCC1OC(n2cnc3c(N)ncnc32)C(O)C1OP(=O)(O)O)C(O)C(O)=NCCC(O)=NCCS\",\n",
    "    inchi=\"InChI=1S/C21H36N7O16P3S/c1-21(2,16(31)19(32)24-4-3-12(29)23-5-6-48)8-41-47(38,39)44-46(36,37)40-7-11-15(43-45(33,34)35)14(30)20(42-11)28-10-27-13-17(22)25-9-26-18(13)28/h9-11,14-16,20,30-31,48H,3-8H2,1-2H3,(H,23,29)(H,24,32)(H,36,37)(H,38,39)(H2,22,25,26)(H2,33,34,35)\",\n",
    "    inchikey=\"RGJOEKWQDUBAIZ-UHFFFAOYSA-N\",\n",
    "    formula=\"C21H32N7O16P3S\",\n",
    "    name=\"CoA\"\n",
    ")\n",
    "mnxm1 = Compound(\n",
    "    id=\"MNXM1\",\n",
    "    smiles=\"[H+]\",\n",
    "    inchi=\"InChI=1S/p+1\",\n",
    "    inchikey=\"GPRLSGONYQIRFK-UHFFFAOYSA-N\"\n",
    ")\n",
    "mnxm3153 = Compound(\n",
    "    id=\"MNXM3153\",\n",
    "    smiles=\"O=C(c1cccc(O)c1)c1c(O)cc(O)cc1O\",\n",
    "    inchi=\"InChI=1S/C13H10O5/c14-8-3-1-2-7(4-8)13(18)12-10(16)5-9(15)6-11(12)17/h1-6,14-17H\",\n",
    "    inchikey=\"QWRYPHZJTWQLFX-UHFFFAOYSA-N\",\n",
    "    formula=\"C13H9O5\"\n",
    ")\n",
    "mnxm1307 = Compound(\n",
    "    id=\"MNXM1307\",\n",
    "    smiles=\"CC(C)(COP(=O)(O)OP(=O)(O)OCC1OC(n2cnc3c(N)ncnc32)C(O)C1OP(=O)(O)O)C(O)C(O)=NCCC(O)=NCCSC(=O)c1cccc(O)c1\",\n",
    "    inchi=\"InChI=1S/C28H40N7O18P3S/c1-28(2,22(39)25(40)31-7-6-18(37)30-8-9-57-27(41)15-4-3-5-16(36)10-15)12-50-56(47,48)53-55(45,46)49-11-17-21(52-54(42,43)44)20(38)26(51-17)35-14-34-19-23(29)32-13-33-24(19)35/h3-5,10,13-14,17,20-22,26,36,38-39H,6-9,11-12H2,1-2H3,(H,30,37)(H,31,40)(H,45,46)(H,47,48)(H2,29,32,33)(H2,42,43,44)\",\n",
    "    inchikey=\"JTBCMZVWWNFUFR-UHFFFAOYSA-N\",\n",
    "    formula=\"C28H36N7O18P3S\",\n",
    "    name=\"3-hydroxybenzoyl-CoA\"\n",
    ")\n",
    "mnxm40 = Compound(\n",
    "    id=\"MNXM40\",\n",
    "    smiles=\"CC(C)(COP(=O)(O)OP(=O)(O)OCC1OC(n2cnc3c(N)ncnc32)C(O)C1OP(=O)(O)O)C(O)C(O)=NCCC(O)=NCCSC(=O)CC(=O)O\",\n",
    "    inchi=\"InChI=1S/C24H38N7O19P3S/c1-24(2,19(37)22(38)27-4-3-13(32)26-5-6-54-15(35)7-14(33)34)9-47-53(44,45)50-52(42,43)46-8-12-18(49-51(39,40)41)17(36)23(48-12)31-11-30-16-20(25)28-10-29-21(16)31/h10-12,17-19,23,36-37H,3-9H2,1-2H3,(H,26,32)(H,27,38)(H,33,34)(H,42,43)(H,44,45)(H2,25,28,29)(H2,39,40,41)\",\n",
    "    inchikey=\"LTYOQGRJFJAKNA-UHFFFAOYSA-N\",\n",
    "    formula=\"C24H33N7O19P3S\",\n",
    "    name=\"malonyl-CoA\"\n",
    ")\n",
    "\n",
    "print(rxn_1.get_smiles())\n"
   ]
  },
  {
   "cell_type": "code",
   "execution_count": null,
   "metadata": {},
   "outputs": [],
   "source": [
    "### Pathway\n",
    "A pathway is created with only its ID (used as a name)."
   ]
  },
  {
   "cell_type": "code",
   "execution_count": null,
   "id": "265162d8-34e6-4ee2-b85b-7cc18a7fa624",
   "metadata": {},
   "outputs": [],
   "source": [
    "from chemlite import Pathway\n",
    "\n",
    "pathway = Pathway(id=\"pathway\")\n",
    "pathway.add_reaction(\"rxn_1\")\n",
    "pathway.add_reaction(\"rxn_2\")\n",
    "\n",
    "print(pathway)"
   ]
  }
 ],
 "metadata": {
  "kernelspec": {
   "name": "python3",
   "display_name": "Python 3.8.5 64-bit ('base': conda)"
  },
  "language_info": {
   "codemirror_mode": {
    "name": "ipython",
    "version": 3
   },
   "file_extension": ".py",
   "mimetype": "text/x-python",
   "name": "python",
   "nbconvert_exporter": "python",
   "pygments_lexer": "ipython3",
   "version": "3.8.5"
  },
  "interpreter": {
   "hash": "51500703c330b583b74560f2477f7b0637d7e9cfe644d6b7cb1d823901df0352"
  }
 },
 "nbformat": 4,
 "nbformat_minor": 5
}